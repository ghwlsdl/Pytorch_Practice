{
 "cells": [
  {
   "cell_type": "code",
   "execution_count": 1,
   "id": "0d827f33",
   "metadata": {},
   "outputs": [],
   "source": [
    "# Torch : the torch package contains data structures for multi-dimensional tensors\n",
    "#.        and mathematical operations over these are defined."
   ]
  },
  {
   "cell_type": "code",
   "execution_count": 2,
   "id": "9c70465b",
   "metadata": {},
   "outputs": [],
   "source": [
    "import torch\n",
    "import numpy as np"
   ]
  },
  {
   "cell_type": "code",
   "execution_count": 4,
   "id": "c918a048",
   "metadata": {},
   "outputs": [
    {
     "name": "stdout",
     "output_type": "stream",
     "text": [
      "tensor([[2.1715e-18, 2.6951e-09, 5.2592e+22, 1.6409e-07],\n",
      "        [6.7879e-07, 5.2896e-08, 2.1781e-04, 2.6080e+20],\n",
      "        [1.0621e-05, 2.6580e-06, 2.1707e-18, 1.6678e+19],\n",
      "        [7.0976e+22, 2.1715e-18, 4.2330e+21, 1.6534e+19],\n",
      "        [1.1625e+27, 1.4580e-19, 7.1856e+22, 4.3605e+27]])\n"
     ]
    }
   ],
   "source": [
    "x = torch.empty(5,4)\n",
    "print(x)"
   ]
  },
  {
   "cell_type": "code",
   "execution_count": 5,
   "id": "e557ea60",
   "metadata": {},
   "outputs": [
    {
     "data": {
      "text/plain": [
       "tensor([[1., 1., 1.],\n",
       "        [1., 1., 1.],\n",
       "        [1., 1., 1.]])"
      ]
     },
     "execution_count": 5,
     "metadata": {},
     "output_type": "execute_result"
    }
   ],
   "source": [
    "torch.ones(3,3)"
   ]
  },
  {
   "cell_type": "code",
   "execution_count": 6,
   "id": "0a3a5347",
   "metadata": {},
   "outputs": [
    {
     "data": {
      "text/plain": [
       "tensor([0., 0.])"
      ]
     },
     "execution_count": 6,
     "metadata": {},
     "output_type": "execute_result"
    }
   ],
   "source": [
    "torch.zeros(2)"
   ]
  },
  {
   "cell_type": "code",
   "execution_count": 7,
   "id": "e9f2d82c",
   "metadata": {},
   "outputs": [
    {
     "data": {
      "text/plain": [
       "tensor([[0.9316, 0.2644, 0.8756, 0.2445, 0.0578, 0.0597],\n",
       "        [0.4261, 0.7171, 0.7637, 0.5437, 0.9655, 0.4238],\n",
       "        [0.0442, 0.4704, 0.7687, 0.6551, 0.4960, 0.1254],\n",
       "        [0.7284, 0.8865, 0.7038, 0.0976, 0.1261, 0.5402],\n",
       "        [0.6825, 0.4009, 0.5119, 0.3289, 0.9585, 0.9918]])"
      ]
     },
     "execution_count": 7,
     "metadata": {},
     "output_type": "execute_result"
    }
   ],
   "source": [
    "torch.rand(5,6)"
   ]
  },
  {
   "cell_type": "code",
   "execution_count": 8,
   "id": "366ab3fb",
   "metadata": {},
   "outputs": [],
   "source": [
    "l = [13,4]\n",
    "r = np.array([4, 56, 7])"
   ]
  },
  {
   "cell_type": "code",
   "execution_count": 9,
   "id": "f0893e52",
   "metadata": {},
   "outputs": [
    {
     "data": {
      "text/plain": [
       "tensor([13,  4])"
      ]
     },
     "execution_count": 9,
     "metadata": {},
     "output_type": "execute_result"
    }
   ],
   "source": [
    "torch.tensor(l)"
   ]
  },
  {
   "cell_type": "code",
   "execution_count": 10,
   "id": "321c3ac2",
   "metadata": {},
   "outputs": [
    {
     "data": {
      "text/plain": [
       "tensor([ 4, 56,  7])"
      ]
     },
     "execution_count": 10,
     "metadata": {},
     "output_type": "execute_result"
    }
   ],
   "source": [
    "torch.tensor(r)"
   ]
  },
  {
   "cell_type": "code",
   "execution_count": 11,
   "id": "69de6aa8",
   "metadata": {},
   "outputs": [
    {
     "data": {
      "text/plain": [
       "torch.Size([5, 4])"
      ]
     },
     "execution_count": 11,
     "metadata": {},
     "output_type": "execute_result"
    }
   ],
   "source": [
    "x.size()"
   ]
  },
  {
   "cell_type": "code",
   "execution_count": 12,
   "id": "fbce641c",
   "metadata": {},
   "outputs": [
    {
     "data": {
      "text/plain": [
       "torch.Tensor"
      ]
     },
     "execution_count": 12,
     "metadata": {},
     "output_type": "execute_result"
    }
   ],
   "source": [
    "type(x)"
   ]
  },
  {
   "cell_type": "code",
   "execution_count": 21,
   "id": "297a9a92",
   "metadata": {},
   "outputs": [
    {
     "name": "stdout",
     "output_type": "stream",
     "text": [
      "tensor([[0.8156, 0.9382],\n",
      "        [0.4950, 0.5707]])\n",
      "tensor([[0.8959, 0.1457],\n",
      "        [0.9629, 0.2213]])\n"
     ]
    }
   ],
   "source": [
    "x = torch.rand(2,2)\n",
    "y = torch.rand(2,2)\n",
    "print(x)\n",
    "print(y)"
   ]
  },
  {
   "cell_type": "code",
   "execution_count": 22,
   "id": "f595e527",
   "metadata": {},
   "outputs": [
    {
     "data": {
      "text/plain": [
       "tensor([[1.7114, 1.0839],\n",
       "        [1.4579, 0.7920]])"
      ]
     },
     "execution_count": 22,
     "metadata": {},
     "output_type": "execute_result"
    }
   ],
   "source": [
    "x + y"
   ]
  },
  {
   "cell_type": "code",
   "execution_count": 23,
   "id": "dc372fec",
   "metadata": {},
   "outputs": [
    {
     "data": {
      "text/plain": [
       "tensor([[1.7114, 1.0839],\n",
       "        [1.4579, 0.7920]])"
      ]
     },
     "execution_count": 23,
     "metadata": {},
     "output_type": "execute_result"
    }
   ],
   "source": [
    "torch.add(x,y)"
   ]
  },
  {
   "cell_type": "code",
   "execution_count": 24,
   "id": "fe5f5881",
   "metadata": {},
   "outputs": [
    {
     "data": {
      "text/plain": [
       "tensor([[1.7114, 1.0839],\n",
       "        [1.4579, 0.7920]])"
      ]
     },
     "execution_count": 24,
     "metadata": {},
     "output_type": "execute_result"
    }
   ],
   "source": [
    "# y 에 x 를 더한다.\n",
    "y.add(x)"
   ]
  },
  {
   "cell_type": "code",
   "execution_count": 25,
   "id": "1eb76c2f",
   "metadata": {},
   "outputs": [
    {
     "data": {
      "text/plain": [
       "tensor([[0.8959, 0.1457],\n",
       "        [0.9629, 0.2213]])"
      ]
     },
     "execution_count": 25,
     "metadata": {},
     "output_type": "execute_result"
    }
   ],
   "source": [
    "y"
   ]
  },
  {
   "cell_type": "code",
   "execution_count": 26,
   "id": "0396777c",
   "metadata": {},
   "outputs": [
    {
     "data": {
      "text/plain": [
       "tensor([[1.7114, 1.0839],\n",
       "        [1.4579, 0.7920]])"
      ]
     },
     "execution_count": 26,
     "metadata": {},
     "output_type": "execute_result"
    }
   ],
   "source": [
    "# y 에 x를 더해서 y를 대체한다\n",
    "y.add_(x)"
   ]
  },
  {
   "cell_type": "code",
   "execution_count": 29,
   "id": "71715162",
   "metadata": {},
   "outputs": [
    {
     "data": {
      "text/plain": [
       "tensor([[1.7114, 1.0839],\n",
       "        [1.4579, 0.7920]])"
      ]
     },
     "execution_count": 29,
     "metadata": {},
     "output_type": "execute_result"
    }
   ],
   "source": [
    "y"
   ]
  },
  {
   "cell_type": "code",
   "execution_count": 30,
   "id": "fdfa3930",
   "metadata": {},
   "outputs": [
    {
     "data": {
      "text/plain": [
       "tensor(0.7920)"
      ]
     },
     "execution_count": 30,
     "metadata": {},
     "output_type": "execute_result"
    }
   ],
   "source": [
    "# y 행렬에서의 (1,1) 추출\n",
    "# (파이썬에서는 0 부터 시작 이므로 y는 (0,0), (0,1), (1,0), (1,1)로 구성 되어 있습니다.\n",
    "y[1,1]"
   ]
  },
  {
   "cell_type": "code",
   "execution_count": 31,
   "id": "a2387a9c",
   "metadata": {},
   "outputs": [
    {
     "data": {
      "text/plain": [
       "tensor([1.0839, 0.7920])"
      ]
     },
     "execution_count": 31,
     "metadata": {},
     "output_type": "execute_result"
    }
   ],
   "source": [
    "# 1열을 표현하는 방식\n",
    "y[:, 1]"
   ]
  },
  {
   "cell_type": "code",
   "execution_count": 32,
   "id": "d0da70a9",
   "metadata": {},
   "outputs": [
    {
     "name": "stdout",
     "output_type": "stream",
     "text": [
      "tensor([[0.0040, 0.0248, 0.1685, 0.6564, 0.4019, 0.3151, 0.7130, 0.6988],\n",
      "        [0.2709, 0.3478, 0.5051, 0.1666, 0.1736, 0.1669, 0.7013, 0.0990],\n",
      "        [0.9172, 0.3355, 0.3620, 0.2393, 0.6436, 0.4054, 0.2880, 0.3320],\n",
      "        [0.5652, 0.8067, 0.0836, 0.7683, 0.4573, 0.3002, 0.2951, 0.8597],\n",
      "        [0.8238, 0.2091, 0.0582, 0.1406, 0.1807, 0.8086, 0.5243, 0.6662],\n",
      "        [0.6544, 0.2161, 0.5486, 0.0847, 0.3903, 0.4926, 0.9892, 0.2390],\n",
      "        [0.3921, 0.9408, 0.3054, 0.4779, 0.4322, 0.7497, 0.5968, 0.7806],\n",
      "        [0.2810, 0.3537, 0.5416, 0.3574, 0.9321, 0.4182, 0.9825, 0.2014]])\n"
     ]
    }
   ],
   "source": [
    "x = torch.rand(8,8)\n",
    "print(x)"
   ]
  },
  {
   "cell_type": "code",
   "execution_count": 33,
   "id": "133936f5",
   "metadata": {},
   "outputs": [
    {
     "data": {
      "text/plain": [
       "tensor([0.0040, 0.0248, 0.1685, 0.6564, 0.4019, 0.3151, 0.7130, 0.6988, 0.2709,\n",
       "        0.3478, 0.5051, 0.1666, 0.1736, 0.1669, 0.7013, 0.0990, 0.9172, 0.3355,\n",
       "        0.3620, 0.2393, 0.6436, 0.4054, 0.2880, 0.3320, 0.5652, 0.8067, 0.0836,\n",
       "        0.7683, 0.4573, 0.3002, 0.2951, 0.8597, 0.8238, 0.2091, 0.0582, 0.1406,\n",
       "        0.1807, 0.8086, 0.5243, 0.6662, 0.6544, 0.2161, 0.5486, 0.0847, 0.3903,\n",
       "        0.4926, 0.9892, 0.2390, 0.3921, 0.9408, 0.3054, 0.4779, 0.4322, 0.7497,\n",
       "        0.5968, 0.7806, 0.2810, 0.3537, 0.5416, 0.3574, 0.9321, 0.4182, 0.9825,\n",
       "        0.2014])"
      ]
     },
     "execution_count": 33,
     "metadata": {},
     "output_type": "execute_result"
    }
   ],
   "source": [
    "# view 함수 : 행렬을 변환 시킬 때 사용 -> CNN 구현 시 FCN 을 지나가기 전에 사용합니다.\n",
    "x.view(64)   # 1열로 나열할 때 사용"
   ]
  },
  {
   "cell_type": "code",
   "execution_count": 34,
   "id": "b46bbcbb",
   "metadata": {},
   "outputs": [
    {
     "data": {
      "text/plain": [
       "tensor([[0.0040, 0.0248, 0.1685, 0.6564, 0.4019, 0.3151, 0.7130, 0.6988, 0.2709,\n",
       "         0.3478, 0.5051, 0.1666, 0.1736, 0.1669, 0.7013, 0.0990],\n",
       "        [0.9172, 0.3355, 0.3620, 0.2393, 0.6436, 0.4054, 0.2880, 0.3320, 0.5652,\n",
       "         0.8067, 0.0836, 0.7683, 0.4573, 0.3002, 0.2951, 0.8597],\n",
       "        [0.8238, 0.2091, 0.0582, 0.1406, 0.1807, 0.8086, 0.5243, 0.6662, 0.6544,\n",
       "         0.2161, 0.5486, 0.0847, 0.3903, 0.4926, 0.9892, 0.2390],\n",
       "        [0.3921, 0.9408, 0.3054, 0.4779, 0.4322, 0.7497, 0.5968, 0.7806, 0.2810,\n",
       "         0.3537, 0.5416, 0.3574, 0.9321, 0.4182, 0.9825, 0.2014]])"
      ]
     },
     "execution_count": 34,
     "metadata": {},
     "output_type": "execute_result"
    }
   ],
   "source": [
    "# 4 X 16 형태로 변경\n",
    "x.view(4, 16)"
   ]
  },
  {
   "cell_type": "code",
   "execution_count": 35,
   "id": "cf26f8fc",
   "metadata": {},
   "outputs": [
    {
     "data": {
      "text/plain": [
       "tensor([[0.0040, 0.0248, 0.1685, 0.6564, 0.4019, 0.3151, 0.7130, 0.6988, 0.2709,\n",
       "         0.3478, 0.5051, 0.1666, 0.1736, 0.1669, 0.7013, 0.0990],\n",
       "        [0.9172, 0.3355, 0.3620, 0.2393, 0.6436, 0.4054, 0.2880, 0.3320, 0.5652,\n",
       "         0.8067, 0.0836, 0.7683, 0.4573, 0.3002, 0.2951, 0.8597],\n",
       "        [0.8238, 0.2091, 0.0582, 0.1406, 0.1807, 0.8086, 0.5243, 0.6662, 0.6544,\n",
       "         0.2161, 0.5486, 0.0847, 0.3903, 0.4926, 0.9892, 0.2390],\n",
       "        [0.3921, 0.9408, 0.3054, 0.4779, 0.4322, 0.7497, 0.5968, 0.7806, 0.2810,\n",
       "         0.3537, 0.5416, 0.3574, 0.9321, 0.4182, 0.9825, 0.2014]])"
      ]
     },
     "execution_count": 35,
     "metadata": {},
     "output_type": "execute_result"
    }
   ],
   "source": [
    "# -1 사용시, 뒤에 고정 된 숫자의 나머지 값을 넣어준다고 생각해도 무방\n",
    "x.view(-1, 16)   # (ex. 64 / 16 = 4 가 되는 것 처럼, -1 = 4 가 됨)"
   ]
  },
  {
   "cell_type": "code",
   "execution_count": 36,
   "id": "5578cdee",
   "metadata": {},
   "outputs": [
    {
     "data": {
      "text/plain": [
       "tensor([[[0.0040, 0.0248, 0.1685, 0.6564],\n",
       "         [0.4019, 0.3151, 0.7130, 0.6988],\n",
       "         [0.2709, 0.3478, 0.5051, 0.1666],\n",
       "         [0.1736, 0.1669, 0.7013, 0.0990]],\n",
       "\n",
       "        [[0.9172, 0.3355, 0.3620, 0.2393],\n",
       "         [0.6436, 0.4054, 0.2880, 0.3320],\n",
       "         [0.5652, 0.8067, 0.0836, 0.7683],\n",
       "         [0.4573, 0.3002, 0.2951, 0.8597]],\n",
       "\n",
       "        [[0.8238, 0.2091, 0.0582, 0.1406],\n",
       "         [0.1807, 0.8086, 0.5243, 0.6662],\n",
       "         [0.6544, 0.2161, 0.5486, 0.0847],\n",
       "         [0.3903, 0.4926, 0.9892, 0.2390]],\n",
       "\n",
       "        [[0.3921, 0.9408, 0.3054, 0.4779],\n",
       "         [0.4322, 0.7497, 0.5968, 0.7806],\n",
       "         [0.2810, 0.3537, 0.5416, 0.3574],\n",
       "         [0.9321, 0.4182, 0.9825, 0.2014]]])"
      ]
     },
     "execution_count": 36,
     "metadata": {},
     "output_type": "execute_result"
    }
   ],
   "source": [
    "x.view(-1,4,4)"
   ]
  },
  {
   "cell_type": "code",
   "execution_count": 37,
   "id": "72cc4c97",
   "metadata": {},
   "outputs": [
    {
     "name": "stdout",
     "output_type": "stream",
     "text": [
      "[[0.00395948 0.02481455 0.16853487 0.6564107  0.4018727  0.31510967\n",
      "  0.71302104 0.6987897 ]\n",
      " [0.2708555  0.34782034 0.50506365 0.16661668 0.1736095  0.16687351\n",
      "  0.7012712  0.0990122 ]\n",
      " [0.91717464 0.33551127 0.36202306 0.23927939 0.6435893  0.4054337\n",
      "  0.28797042 0.33195353]\n",
      " [0.56524515 0.80670696 0.08360255 0.76831895 0.45732486 0.3002432\n",
      "  0.29505062 0.8597198 ]\n",
      " [0.82378834 0.20908934 0.05818295 0.14061028 0.18072087 0.80864394\n",
      "  0.52427346 0.6662438 ]\n",
      " [0.65437645 0.21610862 0.54862493 0.08474308 0.39029562 0.49260783\n",
      "  0.9891572  0.23902261]\n",
      " [0.39206755 0.9408107  0.30544055 0.47785693 0.4321925  0.7496811\n",
      "  0.5967789  0.7806187 ]\n",
      " [0.28096122 0.35369688 0.5416227  0.35741192 0.93214864 0.41816533\n",
      "  0.982504   0.20139837]]\n"
     ]
    }
   ],
   "source": [
    "# torch.Tensor 에서 numpy 전환하는 방법\n",
    "y = x.numpy()\n",
    "print(y)"
   ]
  },
  {
   "cell_type": "code",
   "execution_count": 38,
   "id": "e1f0d139",
   "metadata": {},
   "outputs": [
    {
     "data": {
      "text/plain": [
       "numpy.ndarray"
      ]
     },
     "execution_count": 38,
     "metadata": {},
     "output_type": "execute_result"
    }
   ],
   "source": [
    "type(y)"
   ]
  },
  {
   "cell_type": "code",
   "execution_count": 39,
   "id": "1022abc9",
   "metadata": {},
   "outputs": [],
   "source": [
    "# item : (스칼라 일 때만 사용 가능한 함수, 즉 원소가 하나 일 때만 사용 가능)\n",
    "x = torch.ones(1)"
   ]
  },
  {
   "cell_type": "code",
   "execution_count": 40,
   "id": "4c4388b7",
   "metadata": {},
   "outputs": [
    {
     "data": {
      "text/plain": [
       "tensor([1.])"
      ]
     },
     "execution_count": 40,
     "metadata": {},
     "output_type": "execute_result"
    }
   ],
   "source": [
    "x"
   ]
  },
  {
   "cell_type": "code",
   "execution_count": 41,
   "id": "0aa375bc",
   "metadata": {},
   "outputs": [
    {
     "data": {
      "text/plain": [
       "1.0"
      ]
     },
     "execution_count": 41,
     "metadata": {},
     "output_type": "execute_result"
    }
   ],
   "source": [
    "# loss function 값은 스칼라 값이므로, 그것을 추출할 때 사용\n",
    "x.item()"
   ]
  },
  {
   "cell_type": "code",
   "execution_count": null,
   "id": "090cd5f6",
   "metadata": {},
   "outputs": [],
   "source": []
  }
 ],
 "metadata": {
  "kernelspec": {
   "display_name": "Python 3 (ipykernel)",
   "language": "python",
   "name": "python3"
  },
  "language_info": {
   "codemirror_mode": {
    "name": "ipython",
    "version": 3
   },
   "file_extension": ".py",
   "mimetype": "text/x-python",
   "name": "python",
   "nbconvert_exporter": "python",
   "pygments_lexer": "ipython3",
   "version": "3.8.10"
  }
 },
 "nbformat": 4,
 "nbformat_minor": 5
}
